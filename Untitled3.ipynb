{
  "nbformat": 4,
  "nbformat_minor": 0,
  "metadata": {
    "colab": {
      "provenance": []
    },
    "kernelspec": {
      "name": "python3",
      "display_name": "Python 3"
    },
    "language_info": {
      "name": "python"
    }
  },
  "cells": [
    {
      "cell_type": "markdown",
      "source": [
        "Question 1"
      ],
      "metadata": {
        "id": "v8F1NTZXH25-"
      }
    },
    {
      "cell_type": "code",
      "execution_count": 2,
      "metadata": {
        "colab": {
          "base_uri": "https://localhost:8080/"
        },
        "id": "vs3cDYTbHlVj",
        "outputId": "ebb9dd04-656e-487e-9d9d-272744484554"
      },
      "outputs": [
        {
          "output_type": "stream",
          "name": "stdout",
          "text": [
            "Length of the segment: 5.0\n",
            "Slope of the segment: 1.3333333333333333\n"
          ]
        }
      ],
      "source": [
        "import math\n",
        "\n",
        "class Point:\n",
        "    def __init__(self, x=0, y=0):\n",
        "\n",
        "        self.x = x\n",
        "        self.y = y\n",
        "\n",
        "class Segment:\n",
        "    def __init__(self, point1, point2):\n",
        "\n",
        "        self.point1 = point1\n",
        "        self.point2 = point2\n",
        "\n",
        "    def length(self):\n",
        "\n",
        "        return math.sqrt((self.point2.x - self.point1.x) ** 2 + (self.point2.y - self.point1.y) ** 2)\n",
        "\n",
        "    def slope(self):\n",
        "\n",
        "        try:\n",
        "            return (self.point2.y - self.point1.y) / (self.point2.x - self.point1.x)\n",
        "        except ZeroDivisionError:\n",
        "            return None\n",
        "\n",
        "# Example usage:\n",
        "p1 = Point(3, 4)\n",
        "p2 = Point()  # Defaults to (0, 0)\n",
        "\n",
        "s = Segment(p1, p2)\n",
        "\n",
        "# Testing the functions\n",
        "print(f\"Length of the segment: {s.length()}\")\n",
        "print(f\"Slope of the segment: {s.slope()}\")\n"
      ]
    },
    {
      "cell_type": "code",
      "source": [],
      "metadata": {
        "id": "vTWxlJixHoBe"
      },
      "execution_count": null,
      "outputs": []
    }
  ]
}